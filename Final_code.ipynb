{
  "cells": [
    {
      "cell_type": "code",
      "source": [
        "from google.colab import drive\n",
        "drive.mount('/content/drive')"
      ],
      "metadata": {
        "colab": {
          "base_uri": "https://localhost:8080/"
        },
        "id": "VszS5LujMfh3",
        "outputId": "5339913a-723b-4ae0-c1c3-a6bf18670a40"
      },
      "execution_count": 16,
      "outputs": [
        {
          "output_type": "stream",
          "name": "stdout",
          "text": [
            "Drive already mounted at /content/drive; to attempt to forcibly remount, call drive.mount(\"/content/drive\", force_remount=True).\n"
          ]
        }
      ]
    },
    {
      "cell_type": "code",
      "execution_count": 17,
      "metadata": {
        "_cell_guid": "d9411003-34d6-4cf8-9146-7c7ab81d7ae1",
        "_execution_state": "idle",
        "_uuid": "9065b09c0180732af5b09e45d7b5b6aa6a414b05",
        "id": "12xGG8f8L9JJ"
      },
      "outputs": [],
      "source": [
        "import pandas as pd\n",
        "from sklearn.preprocessing import StandardScaler\n",
        "from sklearn.model_selection import train_test_split\n",
        "import keras"
      ]
    },
    {
      "cell_type": "code",
      "execution_count": 18,
      "metadata": {
        "_cell_guid": "b2bad657-6d48-40b9-b06b-264d0136bca6",
        "_execution_state": "idle",
        "_uuid": "c6caf6573cbc6ec19f0a5514ebdb9ff127987a45",
        "colab": {
          "base_uri": "https://localhost:8080/",
          "height": 130
        },
        "id": "zbdh36ufL9JP",
        "outputId": "a2ec38b0-c14d-48fb-a915-db05072bbf2c"
      },
      "outputs": [
        {
          "output_type": "execute_result",
          "data": {
            "text/plain": [
              "   Time        V1        V2        V3        V4        V5        V6        V7  \\\n",
              "0   0.0 -1.359807 -0.072781  2.536347  1.378155 -0.338321  0.462388  0.239599   \n",
              "\n",
              "         V8        V9  ...       V21       V22       V23       V24       V25  \\\n",
              "0  0.098698  0.363787  ... -0.018307  0.277838 -0.110474  0.066928  0.128539   \n",
              "\n",
              "        V26       V27       V28  Amount  Class  \n",
              "0 -0.189115  0.133558 -0.021053  149.62      0  \n",
              "\n",
              "[1 rows x 31 columns]"
            ],
            "text/html": [
              "\n",
              "  <div id=\"df-b6d0244a-6e94-4d10-879c-fac0b307660a\" class=\"colab-df-container\">\n",
              "    <div>\n",
              "<style scoped>\n",
              "    .dataframe tbody tr th:only-of-type {\n",
              "        vertical-align: middle;\n",
              "    }\n",
              "\n",
              "    .dataframe tbody tr th {\n",
              "        vertical-align: top;\n",
              "    }\n",
              "\n",
              "    .dataframe thead th {\n",
              "        text-align: right;\n",
              "    }\n",
              "</style>\n",
              "<table border=\"1\" class=\"dataframe\">\n",
              "  <thead>\n",
              "    <tr style=\"text-align: right;\">\n",
              "      <th></th>\n",
              "      <th>Time</th>\n",
              "      <th>V1</th>\n",
              "      <th>V2</th>\n",
              "      <th>V3</th>\n",
              "      <th>V4</th>\n",
              "      <th>V5</th>\n",
              "      <th>V6</th>\n",
              "      <th>V7</th>\n",
              "      <th>V8</th>\n",
              "      <th>V9</th>\n",
              "      <th>...</th>\n",
              "      <th>V21</th>\n",
              "      <th>V22</th>\n",
              "      <th>V23</th>\n",
              "      <th>V24</th>\n",
              "      <th>V25</th>\n",
              "      <th>V26</th>\n",
              "      <th>V27</th>\n",
              "      <th>V28</th>\n",
              "      <th>Amount</th>\n",
              "      <th>Class</th>\n",
              "    </tr>\n",
              "  </thead>\n",
              "  <tbody>\n",
              "    <tr>\n",
              "      <th>0</th>\n",
              "      <td>0.0</td>\n",
              "      <td>-1.359807</td>\n",
              "      <td>-0.072781</td>\n",
              "      <td>2.536347</td>\n",
              "      <td>1.378155</td>\n",
              "      <td>-0.338321</td>\n",
              "      <td>0.462388</td>\n",
              "      <td>0.239599</td>\n",
              "      <td>0.098698</td>\n",
              "      <td>0.363787</td>\n",
              "      <td>...</td>\n",
              "      <td>-0.018307</td>\n",
              "      <td>0.277838</td>\n",
              "      <td>-0.110474</td>\n",
              "      <td>0.066928</td>\n",
              "      <td>0.128539</td>\n",
              "      <td>-0.189115</td>\n",
              "      <td>0.133558</td>\n",
              "      <td>-0.021053</td>\n",
              "      <td>149.62</td>\n",
              "      <td>0</td>\n",
              "    </tr>\n",
              "  </tbody>\n",
              "</table>\n",
              "<p>1 rows × 31 columns</p>\n",
              "</div>\n",
              "    <div class=\"colab-df-buttons\">\n",
              "\n",
              "  <div class=\"colab-df-container\">\n",
              "    <button class=\"colab-df-convert\" onclick=\"convertToInteractive('df-b6d0244a-6e94-4d10-879c-fac0b307660a')\"\n",
              "            title=\"Convert this dataframe to an interactive table.\"\n",
              "            style=\"display:none;\">\n",
              "\n",
              "  <svg xmlns=\"http://www.w3.org/2000/svg\" height=\"24px\" viewBox=\"0 -960 960 960\">\n",
              "    <path d=\"M120-120v-720h720v720H120Zm60-500h600v-160H180v160Zm220 220h160v-160H400v160Zm0 220h160v-160H400v160ZM180-400h160v-160H180v160Zm440 0h160v-160H620v160ZM180-180h160v-160H180v160Zm440 0h160v-160H620v160Z\"/>\n",
              "  </svg>\n",
              "    </button>\n",
              "\n",
              "  <style>\n",
              "    .colab-df-container {\n",
              "      display:flex;\n",
              "      gap: 12px;\n",
              "    }\n",
              "\n",
              "    .colab-df-convert {\n",
              "      background-color: #E8F0FE;\n",
              "      border: none;\n",
              "      border-radius: 50%;\n",
              "      cursor: pointer;\n",
              "      display: none;\n",
              "      fill: #1967D2;\n",
              "      height: 32px;\n",
              "      padding: 0 0 0 0;\n",
              "      width: 32px;\n",
              "    }\n",
              "\n",
              "    .colab-df-convert:hover {\n",
              "      background-color: #E2EBFA;\n",
              "      box-shadow: 0px 1px 2px rgba(60, 64, 67, 0.3), 0px 1px 3px 1px rgba(60, 64, 67, 0.15);\n",
              "      fill: #174EA6;\n",
              "    }\n",
              "\n",
              "    .colab-df-buttons div {\n",
              "      margin-bottom: 4px;\n",
              "    }\n",
              "\n",
              "    [theme=dark] .colab-df-convert {\n",
              "      background-color: #3B4455;\n",
              "      fill: #D2E3FC;\n",
              "    }\n",
              "\n",
              "    [theme=dark] .colab-df-convert:hover {\n",
              "      background-color: #434B5C;\n",
              "      box-shadow: 0px 1px 3px 1px rgba(0, 0, 0, 0.15);\n",
              "      filter: drop-shadow(0px 1px 2px rgba(0, 0, 0, 0.3));\n",
              "      fill: #FFFFFF;\n",
              "    }\n",
              "  </style>\n",
              "\n",
              "    <script>\n",
              "      const buttonEl =\n",
              "        document.querySelector('#df-b6d0244a-6e94-4d10-879c-fac0b307660a button.colab-df-convert');\n",
              "      buttonEl.style.display =\n",
              "        google.colab.kernel.accessAllowed ? 'block' : 'none';\n",
              "\n",
              "      async function convertToInteractive(key) {\n",
              "        const element = document.querySelector('#df-b6d0244a-6e94-4d10-879c-fac0b307660a');\n",
              "        const dataTable =\n",
              "          await google.colab.kernel.invokeFunction('convertToInteractive',\n",
              "                                                    [key], {});\n",
              "        if (!dataTable) return;\n",
              "\n",
              "        const docLinkHtml = 'Like what you see? Visit the ' +\n",
              "          '<a target=\"_blank\" href=https://colab.research.google.com/notebooks/data_table.ipynb>data table notebook</a>'\n",
              "          + ' to learn more about interactive tables.';\n",
              "        element.innerHTML = '';\n",
              "        dataTable['output_type'] = 'display_data';\n",
              "        await google.colab.output.renderOutput(dataTable, element);\n",
              "        const docLink = document.createElement('div');\n",
              "        docLink.innerHTML = docLinkHtml;\n",
              "        element.appendChild(docLink);\n",
              "      }\n",
              "    </script>\n",
              "  </div>\n",
              "\n",
              "    </div>\n",
              "  </div>\n"
            ],
            "application/vnd.google.colaboratory.intrinsic+json": {
              "type": "dataframe",
              "variable_name": "df"
            }
          },
          "metadata": {},
          "execution_count": 18
        }
      ],
      "source": [
        "df = pd.read_csv('/content/drive/MyDrive/Colab Notebooks/creditcard.csv')\n",
        "df.head(1)"
      ]
    },
    {
      "cell_type": "code",
      "execution_count": 19,
      "metadata": {
        "_cell_guid": "c1d4dae0-da21-4b3c-8a64-5f7348023c74",
        "_execution_state": "idle",
        "_uuid": "d28c50dfc8d8b53f6afc5916d377251a9f85aae2",
        "colab": {
          "base_uri": "https://localhost:8080/"
        },
        "id": "QNGUEqfOL9JR",
        "outputId": "0edbaaf4-e0fd-47bc-8f32-58c9f1d9567b"
      },
      "outputs": [
        {
          "output_type": "execute_result",
          "data": {
            "text/plain": [
              "array([0, 1])"
            ]
          },
          "metadata": {},
          "execution_count": 19
        }
      ],
      "source": [
        "df['Class'].unique() # 0 = no fraud, 1 = fraudulent"
      ]
    },
    {
      "cell_type": "code",
      "execution_count": 20,
      "metadata": {
        "_cell_guid": "133a96a9-7d8f-4edb-b252-cb9ae0259a53",
        "_execution_state": "idle",
        "_uuid": "fe1b2d71747f73fcdb7c49a0f756c97290315575",
        "id": "eMmKmcbhL9JT"
      },
      "outputs": [],
      "source": [
        "X = df.iloc[:, :-1].values\n",
        "y = df.iloc[:, -1].values"
      ]
    },
    {
      "cell_type": "code",
      "execution_count": 21,
      "metadata": {
        "_cell_guid": "5e301a98-005d-435e-8a13-a90a99e950ae",
        "_execution_state": "idle",
        "_uuid": "edf7e601022347557948dd6640779ef84995232d",
        "id": "F6wk2xxOL9JU"
      },
      "outputs": [],
      "source": [
        "X_train, X_test, Y_train, Y_test = train_test_split(X, y, test_size=0.1, random_state=1)"
      ]
    },
    {
      "cell_type": "code",
      "execution_count": 22,
      "metadata": {
        "_cell_guid": "38420016-c586-4dba-b102-8c32370f3782",
        "_execution_state": "idle",
        "_uuid": "d7b61bd5c9d80e76d3179af9bd302870fe795f67",
        "id": "xEGVaVFjL9JV"
      },
      "outputs": [],
      "source": [
        "sc = StandardScaler()\n",
        "X_train = sc.fit_transform(X_train)\n",
        "X_test = sc.transform(X_test)"
      ]
    },
    {
      "cell_type": "code",
      "execution_count": 23,
      "metadata": {
        "_cell_guid": "fbd4095c-c318-496f-910a-fcc029cd9e28",
        "_execution_state": "idle",
        "_uuid": "097614c291cf114222543a1fea2f5f4dccb21dfb",
        "id": "eciaDFxRL9JW"
      },
      "outputs": [],
      "source": [
        "from keras.models import Sequential\n",
        "from keras.layers import Dense\n",
        "from keras.layers import Dropout"
      ]
    },
    {
      "cell_type": "code",
      "execution_count": 24,
      "metadata": {
        "_cell_guid": "d9785c7b-2f34-46a5-b491-52c70c8d0cc1",
        "_execution_state": "idle",
        "_uuid": "8bd9f4fd34b9bd81cec3eabb33a399220f5d32fa",
        "id": "-7JRDWlIL9JX"
      },
      "outputs": [],
      "source": [
        "clf = Sequential([\n",
        "    Dense(units=16, kernel_initializer='uniform', input_dim=30, activation='relu'),\n",
        "    Dense(units=18, kernel_initializer='uniform', activation='relu'),\n",
        "    Dropout(0.25),\n",
        "    Dense(20, kernel_initializer='uniform', activation='relu'),\n",
        "    Dense(24, kernel_initializer='uniform', activation='relu'),\n",
        "    Dense(1, kernel_initializer='uniform', activation='sigmoid')\n",
        "])"
      ]
    },
    {
      "cell_type": "code",
      "execution_count": 25,
      "metadata": {
        "_cell_guid": "a488a051-14ed-47ff-956a-d4fec72e2387",
        "_execution_state": "idle",
        "_uuid": "726bfe5b537878f3a263e10e425707f600d9b0a2",
        "colab": {
          "base_uri": "https://localhost:8080/"
        },
        "id": "J6KUQe66L9JY",
        "outputId": "1a1d43d1-8fbe-4d9c-e6ca-c9fdc329bdb8"
      },
      "outputs": [
        {
          "output_type": "stream",
          "name": "stdout",
          "text": [
            "Model: \"sequential_1\"\n",
            "_________________________________________________________________\n",
            " Layer (type)                Output Shape              Param #   \n",
            "=================================================================\n",
            " dense_5 (Dense)             (None, 16)                496       \n",
            "                                                                 \n",
            " dense_6 (Dense)             (None, 18)                306       \n",
            "                                                                 \n",
            " dropout_1 (Dropout)         (None, 18)                0         \n",
            "                                                                 \n",
            " dense_7 (Dense)             (None, 20)                380       \n",
            "                                                                 \n",
            " dense_8 (Dense)             (None, 24)                504       \n",
            "                                                                 \n",
            " dense_9 (Dense)             (None, 1)                 25        \n",
            "                                                                 \n",
            "=================================================================\n",
            "Total params: 1711 (6.68 KB)\n",
            "Trainable params: 1711 (6.68 KB)\n",
            "Non-trainable params: 0 (0.00 Byte)\n",
            "_________________________________________________________________\n"
          ]
        }
      ],
      "source": [
        "clf.summary()"
      ]
    },
    {
      "cell_type": "code",
      "execution_count": 26,
      "metadata": {
        "_cell_guid": "03990e93-3bbe-4a38-be9e-a8f1515ffba5",
        "_execution_state": "idle",
        "_uuid": "3f473c02d956b7e7c40323a01a36898a7182a8f1",
        "id": "yVwzHebEL9JZ"
      },
      "outputs": [],
      "source": [
        "clf.compile(optimizer='adam', loss='binary_crossentropy', metrics=['accuracy'])"
      ]
    },
    {
      "cell_type": "code",
      "execution_count": 27,
      "metadata": {
        "_cell_guid": "95c05338-0f2e-4327-9876-14ce48c0eac1",
        "_execution_state": "idle",
        "_uuid": "4335b24fb09478353b2c6d3b901bb7cce7f3aa31",
        "colab": {
          "base_uri": "https://localhost:8080/"
        },
        "id": "o6tOlNHOL9Ja",
        "outputId": "f21906ef-9c52-4ff8-c55b-6efbd3749d99"
      },
      "outputs": [
        {
          "output_type": "stream",
          "name": "stdout",
          "text": [
            "Epoch 1/2\n",
            "17089/17089 [==============================] - 41s 2ms/step - loss: 0.0072 - accuracy: 0.9990\n",
            "Epoch 2/2\n",
            "17089/17089 [==============================] - 42s 2ms/step - loss: 0.0036 - accuracy: 0.9994\n"
          ]
        },
        {
          "output_type": "execute_result",
          "data": {
            "text/plain": [
              "<keras.src.callbacks.History at 0x785726e01270>"
            ]
          },
          "metadata": {},
          "execution_count": 27
        }
      ],
      "source": [
        "clf.fit(X_train, Y_train, batch_size=15, epochs=2)"
      ]
    },
    {
      "cell_type": "code",
      "execution_count": 28,
      "metadata": {
        "_cell_guid": "85454690-8ea8-4cf7-ab89-7d564b04b40c",
        "_execution_state": "idle",
        "_uuid": "4fe8e8afb9e6212d2cf159831989dc0118ac846d",
        "colab": {
          "base_uri": "https://localhost:8080/"
        },
        "id": "gP-4pSGvL9Jb",
        "outputId": "02fa5137-ec94-41a6-8a08-7dcd0fd8e77b"
      },
      "outputs": [
        {
          "output_type": "stream",
          "name": "stdout",
          "text": [
            "223/223 [==============================] - 0s 2ms/step - loss: 0.0045 - accuracy: 0.9992\n",
            "\n",
            "And the Score is  99.91573095321655 %\n"
          ]
        }
      ],
      "source": [
        "score = clf.evaluate(X_test, Y_test, batch_size=128)\n",
        "print('\\nAnd the Score is ', score[1] * 100, '%')"
      ]
    },
    {
      "cell_type": "code",
      "source": [
        "fraudulent_count = (Y_test == 1).sum()\n",
        "not_fraudulent_count = (Y_test == 0).sum()\n",
        "print(f'Fraudulent transactions: {fraudulent_count}')\n",
        "print(f'Non-fraudulent transactions: {not_fraudulent_count}')"
      ],
      "metadata": {
        "colab": {
          "base_uri": "https://localhost:8080/"
        },
        "id": "kZam9nEslpH1",
        "outputId": "8c31b024-5484-4ead-9a40-542799b8b7a3"
      },
      "execution_count": 29,
      "outputs": [
        {
          "output_type": "stream",
          "name": "stdout",
          "text": [
            "Fraudulent transactions: 49\n",
            "Non-fraudulent transactions: 28432\n"
          ]
        }
      ]
    }
  ],
  "metadata": {
    "kernelspec": {
      "display_name": "Python 3",
      "language": "python",
      "name": "python3"
    },
    "language_info": {
      "codemirror_mode": {
        "name": "ipython",
        "version": 3
      },
      "file_extension": ".py",
      "mimetype": "text/x-python",
      "name": "python",
      "nbconvert_exporter": "python",
      "pygments_lexer": "ipython3",
      "version": "3.6.1"
    },
    "colab": {
      "provenance": []
    }
  },
  "nbformat": 4,
  "nbformat_minor": 0
}